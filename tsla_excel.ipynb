{
 "cells": [
  {
   "cell_type": "code",
   "execution_count": 1,
   "metadata": {},
   "outputs": [],
   "source": [
    "# read the api key\n",
    "f = open(\"sec_api.key\", \"r\")\n",
    "api_key = f.readline()"
   ]
  },
  {
   "cell_type": "code",
   "execution_count": 2,
   "metadata": {},
   "outputs": [
    {
     "name": "stdout",
     "output_type": "stream",
     "text": [
      "0     https://www.sec.gov/Archives/edgar/data/131860...\n",
      "1     https://www.sec.gov/Archives/edgar/data/131860...\n",
      "2     https://www.sec.gov/Archives/edgar/data/131860...\n",
      "3     https://www.sec.gov/ix?doc=/Archives/edgar/dat...\n",
      "4     https://www.sec.gov/Archives/edgar/data/131860...\n",
      "5     https://www.sec.gov/Archives/edgar/data/131860...\n",
      "6     https://www.sec.gov/Archives/edgar/data/131860...\n",
      "7     https://www.sec.gov/Archives/edgar/data/131860...\n",
      "8     https://www.sec.gov/Archives/edgar/data/131860...\n",
      "9     https://www.sec.gov/Archives/edgar/data/131860...\n",
      "10    https://www.sec.gov/Archives/edgar/data/131860...\n",
      "11    https://www.sec.gov/Archives/edgar/data/131860...\n",
      "12    https://www.sec.gov/Archives/edgar/data/131860...\n",
      "Name: linkToFilingDetails, dtype: object\n"
     ]
    }
   ],
   "source": [
    "import pandas as pd\n",
    "# this is for us to toy with an already downloaded csv\n",
    "df_10k = pd.read_csv('./TSLA/csv/10-K.csv')\n",
    "print(df_10k['linkToFilingDetails'])"
   ]
  },
  {
   "cell_type": "code",
   "execution_count": 3,
   "metadata": {},
   "outputs": [
    {
     "data": {
      "text/html": [
       "<div>\n",
       "<style scoped>\n",
       "    .dataframe tbody tr th:only-of-type {\n",
       "        vertical-align: middle;\n",
       "    }\n",
       "\n",
       "    .dataframe tbody tr th {\n",
       "        vertical-align: top;\n",
       "    }\n",
       "\n",
       "    .dataframe thead th {\n",
       "        text-align: right;\n",
       "    }\n",
       "</style>\n",
       "<table border=\"1\" class=\"dataframe\">\n",
       "  <thead>\n",
       "    <tr style=\"text-align: right;\">\n",
       "      <th></th>\n",
       "      <th>ticker</th>\n",
       "      <th>formType</th>\n",
       "      <th>periodOfReport</th>\n",
       "      <th>filedAt</th>\n",
       "      <th>filingUrl</th>\n",
       "      <th>financialReportsUrl</th>\n",
       "    </tr>\n",
       "  </thead>\n",
       "  <tbody>\n",
       "    <tr>\n",
       "      <th>0</th>\n",
       "      <td>TSLA</td>\n",
       "      <td>10-K</td>\n",
       "      <td>2022-12-31</td>\n",
       "      <td>2023-01-30T21:29:15-05:00</td>\n",
       "      <td>https://www.sec.gov/Archives/edgar/data/131860...</td>\n",
       "      <td>https://www.sec.gov/Archives/edgar/data/131860...</td>\n",
       "    </tr>\n",
       "    <tr>\n",
       "      <th>1</th>\n",
       "      <td>TSLA</td>\n",
       "      <td>10-K</td>\n",
       "      <td>2021-12-31</td>\n",
       "      <td>2022-02-04T20:11:27-05:00</td>\n",
       "      <td>https://www.sec.gov/Archives/edgar/data/131860...</td>\n",
       "      <td>https://www.sec.gov/Archives/edgar/data/131860...</td>\n",
       "    </tr>\n",
       "  </tbody>\n",
       "</table>\n",
       "</div>"
      ],
      "text/plain": [
       "  ticker formType periodOfReport                    filedAt  \\\n",
       "0   TSLA     10-K     2022-12-31  2023-01-30T21:29:15-05:00   \n",
       "1   TSLA     10-K     2021-12-31  2022-02-04T20:11:27-05:00   \n",
       "\n",
       "                                           filingUrl  \\\n",
       "0  https://www.sec.gov/Archives/edgar/data/131860...   \n",
       "1  https://www.sec.gov/Archives/edgar/data/131860...   \n",
       "\n",
       "                                 financialReportsUrl  \n",
       "0  https://www.sec.gov/Archives/edgar/data/131860...  \n",
       "1  https://www.sec.gov/Archives/edgar/data/131860...  "
      ]
     },
     "execution_count": 3,
     "metadata": {},
     "output_type": "execute_result"
    }
   ],
   "source": [
    "urls = df_10k[['ticker', \n",
    "                'formType', \n",
    "                'periodOfReport',\n",
    "                'filedAt', \n",
    "                'linkToFilingDetails']].rename(columns={'linkToFilingDetails': 'filingUrl'})\n",
    "\n",
    "# display(urls)\n",
    "\n",
    "urls['financialReportsUrl'] = urls['filingUrl'].apply(lambda url: '/'.join(url.split('/')[:-1]) + '/Financial_Report.xlsx')\n",
    "\n",
    "urls.head(2)"
   ]
  },
  {
   "cell_type": "code",
   "execution_count": 4,
   "metadata": {},
   "outputs": [
    {
     "name": "stdout",
     "output_type": "stream",
     "text": [
      "https://archive.sec-api.io/1318605/000095017023001409/Financial_Report.xlsx?token=6b15d4247a62add288a7595bee22a0178be6829426bc84601d34dbdc751f603e\n",
      "https://archive.sec-api.io/1318605/000095017022000796/Financial_Report.xlsx?token=6b15d4247a62add288a7595bee22a0178be6829426bc84601d34dbdc751f603e\n",
      "https://archive.sec-api.io/1318605/000156459021004599/Financial_Report.xlsx?token=6b15d4247a62add288a7595bee22a0178be6829426bc84601d34dbdc751f603e\n",
      "https://archive.sec-api.io/1318605/000156459020004475/Financial_Report.xlsx?token=6b15d4247a62add288a7595bee22a0178be6829426bc84601d34dbdc751f603e\n",
      "https://archive.sec-api.io/1318605/000156459019003165/Financial_Report.xlsx?token=6b15d4247a62add288a7595bee22a0178be6829426bc84601d34dbdc751f603e\n",
      "https://archive.sec-api.io/1318605/000156459018002956/Financial_Report.xlsx?token=6b15d4247a62add288a7595bee22a0178be6829426bc84601d34dbdc751f603e\n",
      "https://archive.sec-api.io/1318605/000156459017003118/Financial_Report.xlsx?token=6b15d4247a62add288a7595bee22a0178be6829426bc84601d34dbdc751f603e\n",
      "https://archive.sec-api.io/1318605/000156459016013195/Financial_Report.xlsx?token=6b15d4247a62add288a7595bee22a0178be6829426bc84601d34dbdc751f603e\n",
      "https://archive.sec-api.io/1318605/000156459015001031/Financial_Report.xlsx?token=6b15d4247a62add288a7595bee22a0178be6829426bc84601d34dbdc751f603e\n",
      "https://archive.sec-api.io/1318605/000119312514069681/Financial_Report.xlsx?token=6b15d4247a62add288a7595bee22a0178be6829426bc84601d34dbdc751f603e\n",
      "https://archive.sec-api.io/1318605/000119312513096241/Financial_Report.xlsx?token=6b15d4247a62add288a7595bee22a0178be6829426bc84601d34dbdc751f603e\n",
      "https://archive.sec-api.io/1318605/000119312512081990/Financial_Report.xlsx?token=6b15d4247a62add288a7595bee22a0178be6829426bc84601d34dbdc751f603e\n",
      "https://archive.sec-api.io/1318605/000119312511054847/Financial_Report.xlsx?token=6b15d4247a62add288a7595bee22a0178be6829426bc84601d34dbdc751f603e\n"
     ]
    }
   ],
   "source": [
    "import requests\n",
    "for single_filing in urls.iloc:\n",
    "    financial_report_path = single_filing['financialReportsUrl'].replace('https://www.sec.gov/Archives/edgar/data/', '')\n",
    "    # sometimes they have a different format\n",
    "    financial_report_path = financial_report_path.replace('https://www.sec.gov/ix?doc=/Archives/edgar/data/', '')\n",
    "\n",
    "    # print(financial_report_path)\n",
    "    base_url = 'https://archive.sec-api.io/' + financial_report_path\n",
    "\n",
    "    render_api_url = base_url + '?token=' + api_key\n",
    "    print(render_api_url)\n",
    "\n",
    "    response = requests.get(render_api_url)\n",
    "\n",
    "    file_name = f\"{single_filing['ticker']}-{single_filing['periodOfReport']}-{single_filing['formType']}.xlsx\"\n",
    "    # print(file_name)\n",
    "    output = open('./TSLA/spreadsheets/' + file_name, 'wb')\n",
    "    output.write(response.content)\n",
    "    output.close()\n"
   ]
  },
  {
   "cell_type": "code",
   "execution_count": 5,
   "metadata": {},
   "outputs": [
    {
     "name": "stdout",
     "output_type": "stream",
     "text": [
      "Unable to read excel file from:  ./TSLA/spreadsheets/TSLA-2010-12-31-10-K.xlsx\n",
      "Unable to read excel file from:  ./TSLA/spreadsheets/TSLA-2011-12-31-10-K.xlsx\n",
      "Unable to read excel file from:  ./TSLA/spreadsheets/TSLA-2012-12-31-10-K.xlsx\n"
     ]
    }
   ],
   "source": [
    "import os\n",
    "import pandas as pd\n",
    "from zipfile import BadZipFile\n",
    "\n",
    "directory = './TSLA/spreadsheets/'\n",
    "file_names = os.listdir(directory)\n",
    "\n",
    "excel_docs = []\n",
    "for filename in file_names:\n",
    "    path = os.path.join(directory, filename)\n",
    "    try:\n",
    "        excel_docs.append(pd.read_excel(path, sheet_name=None, engine='openpyxl'))\n",
    "    except BadZipFile:\n",
    "        print('Unable to read excel file from: ', path)"
   ]
  },
  {
   "cell_type": "code",
   "execution_count": 6,
   "metadata": {},
   "outputs": [
    {
     "name": "stdout",
     "output_type": "stream",
     "text": [
      "['Unnamed: 1', 'Total', 'Revision of Prior Period, Accounting Standards Update, Adjustment [Member]', 'Redeemable Noncontrolling Interests [Member]', 'Common Stock [Member]', 'Unnamed: 6', 'Additional Paid-In Capital [Member]', 'Additional Paid-In Capital [Member] Revision of Prior Period, Accounting Standards Update, Adjustment [Member]', 'Accumulated Other Comprehensive (Loss) Income [Member]', 'Accumulated Deficit [Member]', '[1]', 'Accumulated Deficit [Member] Revision of Prior Period, Accounting Standards Update, Adjustment [Member]', '[1].1', \"Total Stockholder's Equity [Member]\", \"Total Stockholder's Equity [Member] Revision of Prior Period, Accounting Standards Update, Adjustment [Member]\", 'Noncontrolling Interests in Subsidiaries [Member]']\n"
     ]
    }
   ],
   "source": [
    "page = excel_docs[9]['Document and Entity Information']\n",
    "# print(page.keys())\n",
    "\n",
    "page = excel_docs[9]['Consolidated Statements of Rede']\n",
    "# print(page.keys())\n",
    "\n",
    "sheet_title = page.keys()[0]\n",
    "column_names = []\n",
    "for x in range(1, len(page.keys())):\n",
    "    column_names.append(page.keys()[x])\n",
    "\n",
    "print(column_names)\n",
    "\n",
    "# page.iloc[0].iloc[0]\n",
    "\n",
    "\n"
   ]
  },
  {
   "cell_type": "code",
   "execution_count": 50,
   "metadata": {},
   "outputs": [
    {
     "name": "stdout",
     "output_type": "stream",
     "text": [
      "> Pandas Instructions:\n",
      "```\n",
      "df.loc[df['population'].idxmax()]['city']\n",
      "```\n",
      "> Pandas Output: Tokyo\n",
      "Tokyo\n"
     ]
    }
   ],
   "source": [
    "from llama_index.llms.ollama import Ollama\n",
    "from llama_index.experimental.query_engine import PandasQueryEngine\n",
    "\n",
    "df = pd.DataFrame(\n",
    "    {\n",
    "        \"city\": [\"Toronto\", \"Tokyo\", \"Berlin\"],\n",
    "        \"population\": [2930000, 13960000, 3645000],\n",
    "    }\n",
    ")\n",
    "llm = Ollama(model='llama3', request_timeout=360.0, seed=42)\n",
    "query_engine = PandasQueryEngine(df=df, verbose=True, llm=llm)\n",
    "\n",
    "\n",
    "response = query_engine.query(\n",
    "    \"What is the city with the highest population?\",\n",
    ")\n",
    "\n",
    "print(response)"
   ]
  },
  {
   "cell_type": "code",
   "execution_count": 17,
   "metadata": {},
   "outputs": [
    {
     "name": "stdout",
     "output_type": "stream",
     "text": [
      "Index(['Digital Assets, Net', '12 Months Ended'], dtype='object')\n",
      "> Pandas Instructions:\n",
      "```\n",
      "Here is the Python expression that can be used to search every cell in the dataframe `df` and list the cells with lots of text:\n",
      "\n",
      "len(df.applymap(len)) > 50\n",
      "```\n",
      "> Pandas Output: There was an error running the output as Python code. Error message: invalid syntax (<unknown>, line 1)\n",
      "There was an error running the output as Python code. Error message: invalid syntax (<unknown>, line 1)\n"
     ]
    },
    {
     "name": "stderr",
     "output_type": "stream",
     "text": [
      "Traceback (most recent call last):\n",
      "  File \"C:\\Users\\liamd\\AppData\\Local\\Packages\\PythonSoftwareFoundation.Python.3.12_qbz5n2kfra8p0\\LocalCache\\local-packages\\Python312\\site-packages\\llama_index\\experimental\\query_engine\\pandas\\output_parser.py\", line 40, in default_output_processor\n",
      "    tree = ast.parse(output)\n",
      "           ^^^^^^^^^^^^^^^^^\n",
      "  File \"C:\\Program Files\\WindowsApps\\PythonSoftwareFoundation.Python.3.12_3.12.1008.0_x64__qbz5n2kfra8p0\\Lib\\ast.py\", line 52, in parse\n",
      "    return compile(source, filename, mode, flags,\n",
      "           ^^^^^^^^^^^^^^^^^^^^^^^^^^^^^^^^^^^^^^\n",
      "  File \"<unknown>\", line 1\n",
      "    Here is the Python expression that can be used to search every cell in the dataframe `df` and list the cells with lots of text:\n",
      "                ^^^^^^\n",
      "SyntaxError: invalid syntax\n"
     ]
    }
   ],
   "source": [
    "from llama_index.llms.ollama import Ollama\n",
    "from llama_index.experimental.query_engine import PandasQueryEngine\n",
    "\n",
    "page = excel_docs[9]['Digital Assets, Net']\n",
    "print(page.keys())\n",
    "\n",
    "llm = Ollama(model='llama3', request_timeout=360.0, seed=42)\n",
    "query_engine = PandasQueryEngine(df=page, verbose=True, llm=llm)\n",
    "\n",
    "\n",
    "response = query_engine.query(\n",
    "    \"Search every cell and list the cells with lots of text\",\n",
    ")\n",
    "\n",
    "print(response)"
   ]
  },
  {
   "cell_type": "code",
   "execution_count": 20,
   "metadata": {},
   "outputs": [
    {
     "name": "stdout",
     "output_type": "stream",
     "text": [
      "<class 'pandas.core.frame.DataFrame'>\n"
     ]
    }
   ],
   "source": [
    "print(type(page))"
   ]
  }
 ],
 "metadata": {
  "kernelspec": {
   "display_name": "Python 3",
   "language": "python",
   "name": "python3"
  },
  "language_info": {
   "codemirror_mode": {
    "name": "ipython",
    "version": 3
   },
   "file_extension": ".py",
   "mimetype": "text/x-python",
   "name": "python",
   "nbconvert_exporter": "python",
   "pygments_lexer": "ipython3",
   "version": "3.12.3"
  }
 },
 "nbformat": 4,
 "nbformat_minor": 2
}
