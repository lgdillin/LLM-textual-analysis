{
 "cells": [
  {
   "cell_type": "markdown",
   "metadata": {},
   "source": [
    "Load API key from file"
   ]
  },
  {
   "cell_type": "code",
   "execution_count": 1,
   "metadata": {},
   "outputs": [],
   "source": [
    "# read the api key\n",
    "f = open(\"sec_api.key\", \"r\")\n",
    "api_key = f.readline()"
   ]
  },
  {
   "cell_type": "markdown",
   "metadata": {},
   "source": [
    "read the metadata saved from the sec-api query"
   ]
  },
  {
   "cell_type": "code",
   "execution_count": 3,
   "metadata": {},
   "outputs": [],
   "source": [
    "import pandas as pd\n",
    "df_10k = pd.read_csv('./TSLA/csv/10-K.csv')\n",
    "# print(df_10k['linkToFilingDetails'])"
   ]
  },
  {
   "cell_type": "markdown",
   "metadata": {},
   "source": [
    "Pull sections 1a, 7, and 7a from the 10-K files"
   ]
  },
  {
   "cell_type": "code",
   "execution_count": 5,
   "metadata": {},
   "outputs": [],
   "source": [
    "from sec_api import ExtractorApi\n",
    "extractor_api = ExtractorApi(api_key=api_key)\n",
    "\n",
    "\n",
    "texts = []\n",
    "for idx in df_10k.index:\n",
    "    url = df_10k['linkToFilingDetails'][idx]\n",
    "\n",
    "    item_1a = extractor_api.get_section(url, \"1A\", \"text\")\n",
    "    item_7 = extractor_api.get_section(url, \"7\", \"text\")\n",
    "    item_7a = extractor_api.get_section(url, \"7A\", \"text\")\n",
    "    texts.append({\n",
    "        'companyName': df_10k['companyName'][idx],\n",
    "        'filedAt': df_10k['filedAt'][idx],\n",
    "        'item_1a':item_1a,\n",
    "        'item_7': item_7,\n",
    "        'item_7a': item_7a\n",
    "    })\n",
    "\n"
   ]
  },
  {
   "cell_type": "markdown",
   "metadata": {},
   "source": [
    "Dump the pulled data to file so we can just reload it in the future"
   ]
  },
  {
   "cell_type": "code",
   "execution_count": 18,
   "metadata": {},
   "outputs": [],
   "source": [
    "import json\n",
    "# marshalled = json.dumps(texts)\n",
    "with open('./TSLA/json/10k.json', 'w') as file:\n",
    "    json.dump(texts, file)"
   ]
  },
  {
   "cell_type": "code",
   "execution_count": 19,
   "metadata": {},
   "outputs": [
    {
     "name": "stdout",
     "output_type": "stream",
     "text": [
      "<class 'list'>\n"
     ]
    }
   ],
   "source": [
    "import json\n",
    "with open('./TSLA/json/10k.json', 'r') as file:\n",
    "    tsla_10k = json.load(file)"
   ]
  },
  {
   "cell_type": "markdown",
   "metadata": {},
   "source": [
    "Clean HTML special characters out of the text by changing encoding"
   ]
  },
  {
   "cell_type": "code",
   "execution_count": 26,
   "metadata": {},
   "outputs": [],
   "source": [
    "# We could save the data with the encoding already changed,\n",
    "# but in case we need it in that format, we will just change it on load\n",
    "from bs4 import BeautifulSoup\n",
    "def fix_encoding(_txt):\n",
    "    return BeautifulSoup(_txt).contents[0]"
   ]
  },
  {
   "cell_type": "markdown",
   "metadata": {},
   "source": [
    "Remove tabular data that might choke up the LLM"
   ]
  },
  {
   "cell_type": "code",
   "execution_count": 47,
   "metadata": {},
   "outputs": [],
   "source": [
    "def extract_table(in_string: str, table_index: int):\n",
    "    start_idx = in_string.find('##TABLE_START')\n",
    "    end_idx = in_string.find('##TABLE_END')\n",
    "\n",
    "    if start_idx == -1 or end_idx == -1:\n",
    "        return None\n",
    "    \n",
    "    end_idx += len('##TABLE_END')\n",
    "\n",
    "    extracted_table = in_string[start_idx:end_idx]\n",
    "    amended_text = in_string.replace(extracted_table, str('NOTE: Table removed, refer to table index ' + str(table_index) + '. '))\n",
    "    extracted_table = in_string[start_idx + len('##TABLE_START'): end_idx - len('##TABLE_END')]\n",
    "\n",
    "    if start_idx >= end_idx:\n",
    "        return None\n",
    "    \n",
    "    return amended_text, extracted_table\n",
    "\n",
    "def find_and_remove_tables(in_string: str):\n",
    "    tables = []\n",
    "    table_index = 0\n",
    "    txt_string = in_string\n",
    "    while txt_string.find('##TABLE_START') != -1:\n",
    "        txt_string, table_string = extract_table(txt_string, table_index)\n",
    "        tables.append(table_string)\n",
    "        table_index += 1\n",
    "    return txt_string, tables\n"
   ]
  },
  {
   "cell_type": "code",
   "execution_count": 50,
   "metadata": {},
   "outputs": [],
   "source": [
    "# start with just section 1a of the first doc\n",
    "doc = tsla_10k[0]\n",
    "\n",
    "sec_1a, removed_tables_1a = find_and_remove_tables(fix_encoding(doc['item_1a']))\n",
    "sec_7, removed_tables_7 = find_and_remove_tables(fix_encoding(doc['item_7']))\n",
    "sec_7a, removed_tables_7a = find_and_remove_tables(fix_encoding(doc['item_7a']))"
   ]
  },
  {
   "cell_type": "markdown",
   "metadata": {},
   "source": [
    "Work the sections through the vector database,\n",
    "\n",
    "first by initializing the model and embedding"
   ]
  },
  {
   "cell_type": "code",
   "execution_count": null,
   "metadata": {},
   "outputs": [],
   "source": [
    "from llama_index.core import VectorStoreIndex, SimpleDirectoryReader, Settings\n",
    "from llama_index.embeddings.ollama import OllamaEmbedding\n",
    "from llama_index.llms.ollama import Ollama\n",
    "\n",
    "\n",
    "Settings.embed_model = OllamaEmbedding(model_name=\"nomic-embed-text\")\n",
    "Settings.llm = Ollama(model='llama3', request_timeout=360.0, seed=42)"
   ]
  },
  {
   "cell_type": "code",
   "execution_count": null,
   "metadata": {},
   "outputs": [],
   "source": [
    "from langchain.text_splitter import RecursiveCharacterTextSplitter\n",
    "from llama_index.core.node_parser import LangchainNodeParser\n",
    "\n",
    "# Split the text into paragraphs (not sure why I have to do this twice)\n",
    "Settings.text_splitter = LangchainNodeParser(RecursiveCharacterTextSplitter(\n",
    "    chunk_size=1500,\n",
    "    chunk_overlap=0\n",
    "))\n",
    "\n",
    "# Initialize the vector store index with the transformed text\n",
    "tsla_vector_store = VectorStoreIndex.from_documents(\n",
    "    sec_1a,\n",
    "    transformations=[\n",
    "        LangchainNodeParser(RecursiveCharacterTextSplitter(\n",
    "            chunk_size=1500,\n",
    "            chunk_overlap=0\n",
    "    ))]\n",
    ")"
   ]
  }
 ],
 "metadata": {
  "kernelspec": {
   "display_name": "Python 3",
   "language": "python",
   "name": "python3"
  },
  "language_info": {
   "codemirror_mode": {
    "name": "ipython",
    "version": 3
   },
   "file_extension": ".py",
   "mimetype": "text/x-python",
   "name": "python",
   "nbconvert_exporter": "python",
   "pygments_lexer": "ipython3",
   "version": "3.12.3"
  }
 },
 "nbformat": 4,
 "nbformat_minor": 2
}
