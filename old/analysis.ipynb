{
 "cells": [
  {
   "cell_type": "markdown",
   "metadata": {},
   "source": []
  },
  {
   "cell_type": "markdown",
   "metadata": {},
   "source": [
    "If you need the dependencies, install them"
   ]
  },
  {
   "cell_type": "code",
   "execution_count": 30,
   "metadata": {},
   "outputs": [
    {
     "name": "stdout",
     "output_type": "stream",
     "text": [
      "Defaulting to user installation because normal site-packages is not writeable\n",
      "Requirement already satisfied: langchain-community in c:\\users\\liamd\\appdata\\local\\packages\\pythonsoftwarefoundation.python.3.12_qbz5n2kfra8p0\\localcache\\local-packages\\python312\\site-packages (0.0.34)\n",
      "Requirement already satisfied: PyYAML>=5.3 in c:\\users\\liamd\\appdata\\local\\packages\\pythonsoftwarefoundation.python.3.12_qbz5n2kfra8p0\\localcache\\local-packages\\python312\\site-packages (from langchain-community) (6.0.1)\n",
      "Requirement already satisfied: SQLAlchemy<3,>=1.4 in c:\\users\\liamd\\appdata\\local\\packages\\pythonsoftwarefoundation.python.3.12_qbz5n2kfra8p0\\localcache\\local-packages\\python312\\site-packages (from langchain-community) (2.0.29)\n",
      "Requirement already satisfied: aiohttp<4.0.0,>=3.8.3 in c:\\users\\liamd\\appdata\\local\\packages\\pythonsoftwarefoundation.python.3.12_qbz5n2kfra8p0\\localcache\\local-packages\\python312\\site-packages (from langchain-community) (3.9.5)\n",
      "Requirement already satisfied: dataclasses-json<0.7,>=0.5.7 in c:\\users\\liamd\\appdata\\local\\packages\\pythonsoftwarefoundation.python.3.12_qbz5n2kfra8p0\\localcache\\local-packages\\python312\\site-packages (from langchain-community) (0.6.4)\n",
      "Requirement already satisfied: langchain-core<0.2.0,>=0.1.45 in c:\\users\\liamd\\appdata\\local\\packages\\pythonsoftwarefoundation.python.3.12_qbz5n2kfra8p0\\localcache\\local-packages\\python312\\site-packages (from langchain-community) (0.1.46)\n",
      "Requirement already satisfied: langsmith<0.2.0,>=0.1.0 in c:\\users\\liamd\\appdata\\local\\packages\\pythonsoftwarefoundation.python.3.12_qbz5n2kfra8p0\\localcache\\local-packages\\python312\\site-packages (from langchain-community) (0.1.51)\n",
      "Requirement already satisfied: numpy<2,>=1 in c:\\users\\liamd\\appdata\\local\\packages\\pythonsoftwarefoundation.python.3.12_qbz5n2kfra8p0\\localcache\\local-packages\\python312\\site-packages (from langchain-community) (1.26.3)\n",
      "Requirement already satisfied: requests<3,>=2 in c:\\users\\liamd\\appdata\\local\\packages\\pythonsoftwarefoundation.python.3.12_qbz5n2kfra8p0\\localcache\\local-packages\\python312\\site-packages (from langchain-community) (2.31.0)\n",
      "Requirement already satisfied: tenacity<9.0.0,>=8.1.0 in c:\\users\\liamd\\appdata\\local\\packages\\pythonsoftwarefoundation.python.3.12_qbz5n2kfra8p0\\localcache\\local-packages\\python312\\site-packages (from langchain-community) (8.2.3)\n",
      "Requirement already satisfied: aiosignal>=1.1.2 in c:\\users\\liamd\\appdata\\local\\packages\\pythonsoftwarefoundation.python.3.12_qbz5n2kfra8p0\\localcache\\local-packages\\python312\\site-packages (from aiohttp<4.0.0,>=3.8.3->langchain-community) (1.3.1)\n",
      "Requirement already satisfied: attrs>=17.3.0 in c:\\users\\liamd\\appdata\\local\\packages\\pythonsoftwarefoundation.python.3.12_qbz5n2kfra8p0\\localcache\\local-packages\\python312\\site-packages (from aiohttp<4.0.0,>=3.8.3->langchain-community) (23.2.0)\n",
      "Requirement already satisfied: frozenlist>=1.1.1 in c:\\users\\liamd\\appdata\\local\\packages\\pythonsoftwarefoundation.python.3.12_qbz5n2kfra8p0\\localcache\\local-packages\\python312\\site-packages (from aiohttp<4.0.0,>=3.8.3->langchain-community) (1.4.1)\n",
      "Requirement already satisfied: multidict<7.0,>=4.5 in c:\\users\\liamd\\appdata\\local\\packages\\pythonsoftwarefoundation.python.3.12_qbz5n2kfra8p0\\localcache\\local-packages\\python312\\site-packages (from aiohttp<4.0.0,>=3.8.3->langchain-community) (6.0.5)\n",
      "Requirement already satisfied: yarl<2.0,>=1.0 in c:\\users\\liamd\\appdata\\local\\packages\\pythonsoftwarefoundation.python.3.12_qbz5n2kfra8p0\\localcache\\local-packages\\python312\\site-packages (from aiohttp<4.0.0,>=3.8.3->langchain-community) (1.9.4)\n",
      "Requirement already satisfied: marshmallow<4.0.0,>=3.18.0 in c:\\users\\liamd\\appdata\\local\\packages\\pythonsoftwarefoundation.python.3.12_qbz5n2kfra8p0\\localcache\\local-packages\\python312\\site-packages (from dataclasses-json<0.7,>=0.5.7->langchain-community) (3.21.1)\n",
      "Requirement already satisfied: typing-inspect<1,>=0.4.0 in c:\\users\\liamd\\appdata\\local\\packages\\pythonsoftwarefoundation.python.3.12_qbz5n2kfra8p0\\localcache\\local-packages\\python312\\site-packages (from dataclasses-json<0.7,>=0.5.7->langchain-community) (0.9.0)\n",
      "Requirement already satisfied: jsonpatch<2.0,>=1.33 in c:\\users\\liamd\\appdata\\local\\packages\\pythonsoftwarefoundation.python.3.12_qbz5n2kfra8p0\\localcache\\local-packages\\python312\\site-packages (from langchain-core<0.2.0,>=0.1.45->langchain-community) (1.33)\n",
      "Requirement already satisfied: packaging<24.0,>=23.2 in c:\\users\\liamd\\appdata\\local\\packages\\pythonsoftwarefoundation.python.3.12_qbz5n2kfra8p0\\localcache\\local-packages\\python312\\site-packages (from langchain-core<0.2.0,>=0.1.45->langchain-community) (23.2)\n",
      "Requirement already satisfied: pydantic<3,>=1 in c:\\users\\liamd\\appdata\\local\\packages\\pythonsoftwarefoundation.python.3.12_qbz5n2kfra8p0\\localcache\\local-packages\\python312\\site-packages (from langchain-core<0.2.0,>=0.1.45->langchain-community) (2.7.0)\n",
      "Requirement already satisfied: orjson<4.0.0,>=3.9.14 in c:\\users\\liamd\\appdata\\local\\packages\\pythonsoftwarefoundation.python.3.12_qbz5n2kfra8p0\\localcache\\local-packages\\python312\\site-packages (from langsmith<0.2.0,>=0.1.0->langchain-community) (3.10.1)\n",
      "Requirement already satisfied: charset-normalizer<4,>=2 in c:\\users\\liamd\\appdata\\local\\packages\\pythonsoftwarefoundation.python.3.12_qbz5n2kfra8p0\\localcache\\local-packages\\python312\\site-packages (from requests<3,>=2->langchain-community) (3.3.2)\n",
      "Requirement already satisfied: idna<4,>=2.5 in c:\\users\\liamd\\appdata\\local\\packages\\pythonsoftwarefoundation.python.3.12_qbz5n2kfra8p0\\localcache\\local-packages\\python312\\site-packages (from requests<3,>=2->langchain-community) (3.7)\n",
      "Requirement already satisfied: urllib3<3,>=1.21.1 in c:\\users\\liamd\\appdata\\local\\packages\\pythonsoftwarefoundation.python.3.12_qbz5n2kfra8p0\\localcache\\local-packages\\python312\\site-packages (from requests<3,>=2->langchain-community) (2.2.1)\n",
      "Requirement already satisfied: certifi>=2017.4.17 in c:\\users\\liamd\\appdata\\local\\packages\\pythonsoftwarefoundation.python.3.12_qbz5n2kfra8p0\\localcache\\local-packages\\python312\\site-packages (from requests<3,>=2->langchain-community) (2024.2.2)\n",
      "Requirement already satisfied: typing-extensions>=4.6.0 in c:\\users\\liamd\\appdata\\local\\packages\\pythonsoftwarefoundation.python.3.12_qbz5n2kfra8p0\\localcache\\local-packages\\python312\\site-packages (from SQLAlchemy<3,>=1.4->langchain-community) (4.11.0)\n",
      "Requirement already satisfied: greenlet!=0.4.17 in c:\\users\\liamd\\appdata\\local\\packages\\pythonsoftwarefoundation.python.3.12_qbz5n2kfra8p0\\localcache\\local-packages\\python312\\site-packages (from SQLAlchemy<3,>=1.4->langchain-community) (3.0.3)\n",
      "Requirement already satisfied: jsonpointer>=1.9 in c:\\users\\liamd\\appdata\\local\\packages\\pythonsoftwarefoundation.python.3.12_qbz5n2kfra8p0\\localcache\\local-packages\\python312\\site-packages (from jsonpatch<2.0,>=1.33->langchain-core<0.2.0,>=0.1.45->langchain-community) (2.4)\n",
      "Requirement already satisfied: annotated-types>=0.4.0 in c:\\users\\liamd\\appdata\\local\\packages\\pythonsoftwarefoundation.python.3.12_qbz5n2kfra8p0\\localcache\\local-packages\\python312\\site-packages (from pydantic<3,>=1->langchain-core<0.2.0,>=0.1.45->langchain-community) (0.6.0)\n",
      "Requirement already satisfied: pydantic-core==2.18.1 in c:\\users\\liamd\\appdata\\local\\packages\\pythonsoftwarefoundation.python.3.12_qbz5n2kfra8p0\\localcache\\local-packages\\python312\\site-packages (from pydantic<3,>=1->langchain-core<0.2.0,>=0.1.45->langchain-community) (2.18.1)\n",
      "Requirement already satisfied: mypy-extensions>=0.3.0 in c:\\users\\liamd\\appdata\\local\\packages\\pythonsoftwarefoundation.python.3.12_qbz5n2kfra8p0\\localcache\\local-packages\\python312\\site-packages (from typing-inspect<1,>=0.4.0->dataclasses-json<0.7,>=0.5.7->langchain-community) (1.0.0)\n",
      "Note: you may need to restart the kernel to use updated packages.\n",
      "Defaulting to user installation because normal site-packages is not writeable\n",
      "Collecting langchain\n",
      "  Downloading langchain-0.1.16-py3-none-any.whl.metadata (13 kB)\n",
      "Requirement already satisfied: PyYAML>=5.3 in c:\\users\\liamd\\appdata\\local\\packages\\pythonsoftwarefoundation.python.3.12_qbz5n2kfra8p0\\localcache\\local-packages\\python312\\site-packages (from langchain) (6.0.1)\n",
      "Requirement already satisfied: SQLAlchemy<3,>=1.4 in c:\\users\\liamd\\appdata\\local\\packages\\pythonsoftwarefoundation.python.3.12_qbz5n2kfra8p0\\localcache\\local-packages\\python312\\site-packages (from langchain) (2.0.29)\n",
      "Requirement already satisfied: aiohttp<4.0.0,>=3.8.3 in c:\\users\\liamd\\appdata\\local\\packages\\pythonsoftwarefoundation.python.3.12_qbz5n2kfra8p0\\localcache\\local-packages\\python312\\site-packages (from langchain) (3.9.5)\n",
      "Requirement already satisfied: dataclasses-json<0.7,>=0.5.7 in c:\\users\\liamd\\appdata\\local\\packages\\pythonsoftwarefoundation.python.3.12_qbz5n2kfra8p0\\localcache\\local-packages\\python312\\site-packages (from langchain) (0.6.4)\n",
      "Requirement already satisfied: jsonpatch<2.0,>=1.33 in c:\\users\\liamd\\appdata\\local\\packages\\pythonsoftwarefoundation.python.3.12_qbz5n2kfra8p0\\localcache\\local-packages\\python312\\site-packages (from langchain) (1.33)\n",
      "Requirement already satisfied: langchain-community<0.1,>=0.0.32 in c:\\users\\liamd\\appdata\\local\\packages\\pythonsoftwarefoundation.python.3.12_qbz5n2kfra8p0\\localcache\\local-packages\\python312\\site-packages (from langchain) (0.0.34)\n",
      "Requirement already satisfied: langchain-core<0.2.0,>=0.1.42 in c:\\users\\liamd\\appdata\\local\\packages\\pythonsoftwarefoundation.python.3.12_qbz5n2kfra8p0\\localcache\\local-packages\\python312\\site-packages (from langchain) (0.1.46)\n",
      "Collecting langchain-text-splitters<0.1,>=0.0.1 (from langchain)\n",
      "  Downloading langchain_text_splitters-0.0.1-py3-none-any.whl.metadata (2.0 kB)\n",
      "Requirement already satisfied: langsmith<0.2.0,>=0.1.17 in c:\\users\\liamd\\appdata\\local\\packages\\pythonsoftwarefoundation.python.3.12_qbz5n2kfra8p0\\localcache\\local-packages\\python312\\site-packages (from langchain) (0.1.51)\n",
      "Requirement already satisfied: numpy<2,>=1 in c:\\users\\liamd\\appdata\\local\\packages\\pythonsoftwarefoundation.python.3.12_qbz5n2kfra8p0\\localcache\\local-packages\\python312\\site-packages (from langchain) (1.26.3)\n",
      "Requirement already satisfied: pydantic<3,>=1 in c:\\users\\liamd\\appdata\\local\\packages\\pythonsoftwarefoundation.python.3.12_qbz5n2kfra8p0\\localcache\\local-packages\\python312\\site-packages (from langchain) (2.7.0)\n",
      "Requirement already satisfied: requests<3,>=2 in c:\\users\\liamd\\appdata\\local\\packages\\pythonsoftwarefoundation.python.3.12_qbz5n2kfra8p0\\localcache\\local-packages\\python312\\site-packages (from langchain) (2.31.0)\n",
      "Requirement already satisfied: tenacity<9.0.0,>=8.1.0 in c:\\users\\liamd\\appdata\\local\\packages\\pythonsoftwarefoundation.python.3.12_qbz5n2kfra8p0\\localcache\\local-packages\\python312\\site-packages (from langchain) (8.2.3)\n",
      "Requirement already satisfied: aiosignal>=1.1.2 in c:\\users\\liamd\\appdata\\local\\packages\\pythonsoftwarefoundation.python.3.12_qbz5n2kfra8p0\\localcache\\local-packages\\python312\\site-packages (from aiohttp<4.0.0,>=3.8.3->langchain) (1.3.1)\n",
      "Requirement already satisfied: attrs>=17.3.0 in c:\\users\\liamd\\appdata\\local\\packages\\pythonsoftwarefoundation.python.3.12_qbz5n2kfra8p0\\localcache\\local-packages\\python312\\site-packages (from aiohttp<4.0.0,>=3.8.3->langchain) (23.2.0)\n",
      "Requirement already satisfied: frozenlist>=1.1.1 in c:\\users\\liamd\\appdata\\local\\packages\\pythonsoftwarefoundation.python.3.12_qbz5n2kfra8p0\\localcache\\local-packages\\python312\\site-packages (from aiohttp<4.0.0,>=3.8.3->langchain) (1.4.1)\n",
      "Requirement already satisfied: multidict<7.0,>=4.5 in c:\\users\\liamd\\appdata\\local\\packages\\pythonsoftwarefoundation.python.3.12_qbz5n2kfra8p0\\localcache\\local-packages\\python312\\site-packages (from aiohttp<4.0.0,>=3.8.3->langchain) (6.0.5)\n",
      "Requirement already satisfied: yarl<2.0,>=1.0 in c:\\users\\liamd\\appdata\\local\\packages\\pythonsoftwarefoundation.python.3.12_qbz5n2kfra8p0\\localcache\\local-packages\\python312\\site-packages (from aiohttp<4.0.0,>=3.8.3->langchain) (1.9.4)\n",
      "Requirement already satisfied: marshmallow<4.0.0,>=3.18.0 in c:\\users\\liamd\\appdata\\local\\packages\\pythonsoftwarefoundation.python.3.12_qbz5n2kfra8p0\\localcache\\local-packages\\python312\\site-packages (from dataclasses-json<0.7,>=0.5.7->langchain) (3.21.1)\n",
      "Requirement already satisfied: typing-inspect<1,>=0.4.0 in c:\\users\\liamd\\appdata\\local\\packages\\pythonsoftwarefoundation.python.3.12_qbz5n2kfra8p0\\localcache\\local-packages\\python312\\site-packages (from dataclasses-json<0.7,>=0.5.7->langchain) (0.9.0)\n",
      "Requirement already satisfied: jsonpointer>=1.9 in c:\\users\\liamd\\appdata\\local\\packages\\pythonsoftwarefoundation.python.3.12_qbz5n2kfra8p0\\localcache\\local-packages\\python312\\site-packages (from jsonpatch<2.0,>=1.33->langchain) (2.4)\n",
      "Requirement already satisfied: packaging<24.0,>=23.2 in c:\\users\\liamd\\appdata\\local\\packages\\pythonsoftwarefoundation.python.3.12_qbz5n2kfra8p0\\localcache\\local-packages\\python312\\site-packages (from langchain-core<0.2.0,>=0.1.42->langchain) (23.2)\n",
      "Requirement already satisfied: orjson<4.0.0,>=3.9.14 in c:\\users\\liamd\\appdata\\local\\packages\\pythonsoftwarefoundation.python.3.12_qbz5n2kfra8p0\\localcache\\local-packages\\python312\\site-packages (from langsmith<0.2.0,>=0.1.17->langchain) (3.10.1)\n",
      "Requirement already satisfied: annotated-types>=0.4.0 in c:\\users\\liamd\\appdata\\local\\packages\\pythonsoftwarefoundation.python.3.12_qbz5n2kfra8p0\\localcache\\local-packages\\python312\\site-packages (from pydantic<3,>=1->langchain) (0.6.0)\n",
      "Requirement already satisfied: pydantic-core==2.18.1 in c:\\users\\liamd\\appdata\\local\\packages\\pythonsoftwarefoundation.python.3.12_qbz5n2kfra8p0\\localcache\\local-packages\\python312\\site-packages (from pydantic<3,>=1->langchain) (2.18.1)\n",
      "Requirement already satisfied: typing-extensions>=4.6.1 in c:\\users\\liamd\\appdata\\local\\packages\\pythonsoftwarefoundation.python.3.12_qbz5n2kfra8p0\\localcache\\local-packages\\python312\\site-packages (from pydantic<3,>=1->langchain) (4.11.0)\n",
      "Requirement already satisfied: charset-normalizer<4,>=2 in c:\\users\\liamd\\appdata\\local\\packages\\pythonsoftwarefoundation.python.3.12_qbz5n2kfra8p0\\localcache\\local-packages\\python312\\site-packages (from requests<3,>=2->langchain) (3.3.2)\n",
      "Requirement already satisfied: idna<4,>=2.5 in c:\\users\\liamd\\appdata\\local\\packages\\pythonsoftwarefoundation.python.3.12_qbz5n2kfra8p0\\localcache\\local-packages\\python312\\site-packages (from requests<3,>=2->langchain) (3.7)\n",
      "Requirement already satisfied: urllib3<3,>=1.21.1 in c:\\users\\liamd\\appdata\\local\\packages\\pythonsoftwarefoundation.python.3.12_qbz5n2kfra8p0\\localcache\\local-packages\\python312\\site-packages (from requests<3,>=2->langchain) (2.2.1)\n",
      "Requirement already satisfied: certifi>=2017.4.17 in c:\\users\\liamd\\appdata\\local\\packages\\pythonsoftwarefoundation.python.3.12_qbz5n2kfra8p0\\localcache\\local-packages\\python312\\site-packages (from requests<3,>=2->langchain) (2024.2.2)\n",
      "Requirement already satisfied: greenlet!=0.4.17 in c:\\users\\liamd\\appdata\\local\\packages\\pythonsoftwarefoundation.python.3.12_qbz5n2kfra8p0\\localcache\\local-packages\\python312\\site-packages (from SQLAlchemy<3,>=1.4->langchain) (3.0.3)\n",
      "Requirement already satisfied: mypy-extensions>=0.3.0 in c:\\users\\liamd\\appdata\\local\\packages\\pythonsoftwarefoundation.python.3.12_qbz5n2kfra8p0\\localcache\\local-packages\\python312\\site-packages (from typing-inspect<1,>=0.4.0->dataclasses-json<0.7,>=0.5.7->langchain) (1.0.0)\n",
      "Downloading langchain-0.1.16-py3-none-any.whl (817 kB)\n",
      "   ---------------------------------------- 0.0/817.7 kB ? eta -:--:--\n",
      "   - -------------------------------------- 30.7/817.7 kB 1.3 MB/s eta 0:00:01\n",
      "   --------------- ------------------------ 307.2/817.7 kB 3.8 MB/s eta 0:00:01\n",
      "   ---------------------------------------- 817.7/817.7 kB 7.3 MB/s eta 0:00:00\n",
      "Downloading langchain_text_splitters-0.0.1-py3-none-any.whl (21 kB)\n",
      "Installing collected packages: langchain-text-splitters, langchain\n",
      "Successfully installed langchain-0.1.16 langchain-text-splitters-0.0.1\n",
      "Note: you may need to restart the kernel to use updated packages.\n"
     ]
    }
   ],
   "source": [
    "%pip install langchain-community\n",
    "%pip install langchain"
   ]
  },
  {
   "cell_type": "markdown",
   "metadata": {},
   "source": [
    "Import Libraries for notebook\n"
   ]
  },
  {
   "cell_type": "code",
   "execution_count": 36,
   "metadata": {},
   "outputs": [],
   "source": [
    "import ollama\n",
    "import json\n",
    "from collections import deque\n",
    "from langchain_community.chat_models import ChatOllama\n",
    "from langchain.schema import HumanMessage, SystemMessage, AIMessage"
   ]
  },
  {
   "cell_type": "markdown",
   "metadata": {},
   "source": [
    "Basic Example for Ollama"
   ]
  },
  {
   "cell_type": "code",
   "execution_count": 2,
   "metadata": {},
   "outputs": [
    {
     "name": "stdout",
     "output_type": "stream",
     "text": [
      "\n",
      "Title: The Data Scientist's Dilemma\n",
      "\n",
      "Dr. Emma Taylor had always been fascinated by the power of data. As a data scientist at a prominent tech firm, she spent her days poring over numbers and algorithms, trying to make sense of the world around her. But as she delved deeper into her work, she began to realize that there was more to life than just numbers and codes.\n",
      "\n",
      "Emma's latest project involved analyzing the purchasing habits of a popular retail chain. She had been tasked with identifying patterns and trends in customer behavior, in order to help the company optimize their sales strategies. As she worked tirelessly through the data sets, Emma began to notice something strange.\n",
      "\n",
      "The customers who were buying the most expensive items were not necessarily the ones with the highest incomes. In fact, some of the biggest spenders were actually low-income individuals, who were willing to splurge on luxury items despite their limited budgets. Emma was intrigued by this phenomenon and decided to dig deeper.\n",
      "\n",
      "She spent hours poring over her data, trying to find patterns that could explain why these customers were behaving in such a way. And then it hit her - the key to understanding lay not in the data itself, but in the emotions and experiences of the customers. Emma realized that these individuals were buying the luxury items as a form of escapism, a way to temporarily forget about their financial struggles and feel like they were living a more affluent life.\n",
      "\n",
      "Emma's findings were met with both excitement and skepticism by her colleagues. Some saw it as a groundbreaking discovery, while others believed it was too simplistic an explanation. But Emma knew that she had uncovered something deeper and more profound than just numbers and codes. She had caught a glimpse of the human experience, and she knew that this was just the beginning of her journey as a data scientist.\n",
      "\n",
      "As she presented her findings to her colleagues, Emma couldn't help but feel a sense of pride and accomplishment. She had taken something seemingly mundane and discovered a hidden truth within it. And in doing so, she had not only advanced the field of data science, but also gained a deeper understanding of the people behind the numbers.\n",
      "\n",
      "From that day on, Emma approached her work with a newfound appreciation for the emotional and psychological aspects of data analysis. She knew that there was more to life than just crunching numbers, and she was determined to uncover the stories hidden within the data. As she continued to explore the world of data science, Emma realized that she had found her true calling - not just as a scientist, but as a storyteller, using data as the ultimate narrative tool.\n"
     ]
    }
   ],
   "source": [
    "response = ollama.chat(model='llama2', messages=[\n",
    "    {\n",
    "        # Who is writing(?)\n",
    "        'role':'user',\n",
    "        # The query to the LLM\n",
    "        'content':'Please write a short story about a data scientist',\n",
    "    },\n",
    "])\n",
    "print(response['message']['content'])"
   ]
  },
  {
   "cell_type": "markdown",
   "metadata": {},
   "source": [
    "Demonstrating that Ollama2 can be used to pull specific details out of a sentence"
   ]
  },
  {
   "cell_type": "code",
   "execution_count": 4,
   "metadata": {},
   "outputs": [
    {
     "name": "stdout",
     "output_type": "stream",
     "text": [
      "\n",
      "* Payer: John\n",
      "* Recipient: James\n",
      "* Amount: $50\n"
     ]
    }
   ],
   "source": [
    "sys_msg = 'Grab the payer, recipient, amount from any sentence you are given'\n",
    "\n",
    "response = ollama.chat(model='llama2', messages=[\n",
    "    {\n",
    "        'role':'system',\n",
    "        'content':sys_msg,\n",
    "    },\n",
    "    {\n",
    "        'role':'user',\n",
    "        'content':'John payed James $50'\n",
    "    }\n",
    "])\n",
    "print(response['message']['content'])"
   ]
  },
  {
   "cell_type": "markdown",
   "metadata": {},
   "source": [
    "Same example but the output can be formatted as JSON, and certain outputs can be massaged to fit a pattern (e.g. say \"weekly\" instead of \"Friday\")"
   ]
  },
  {
   "cell_type": "code",
   "execution_count": 20,
   "metadata": {},
   "outputs": [
    {
     "name": "stdout",
     "output_type": "stream",
     "text": [
      "{{\n",
      "    \"payer\":\"Paul\",\n",
      "    \"recipient\":\"James\",\n",
      "    \"amount\":\"20.00\",\n",
      "    \"frequency\":\"daily\"\n",
      "}}\n"
     ]
    }
   ],
   "source": [
    "sys_msg = \"\"\"Grab the payer, recipient, amount from any sentence you are given,\n",
    "    and output it in the following JSON format:\n",
    "    {{\n",
    "        \"payer\":\"<name of payer>\",\n",
    "        \"recipient\":\"<name of recipient>\",\n",
    "        \"amount\":\"<amount in USD>\",\n",
    "        \"frequency\":\"<frequency of payment>\" # display as \"hourly\", \"daily\", \"weekly\", etc.\n",
    "    }}\n",
    "\"\"\"\n",
    "\n",
    "response = ollama.chat(model='llama2', messages=[\n",
    "    {\n",
    "        'role':'system',\n",
    "        'content':sys_msg,\n",
    "    },\n",
    "    {\n",
    "        'role':'user',\n",
    "        'content':'John payed James $50 every Friday'\n",
    "    }\n",
    "])\n",
    "print(response['message']['content'])"
   ]
  },
  {
   "cell_type": "markdown",
   "metadata": {},
   "source": [
    "Testing if Ollama can read multiple lines and output a list of responses, but so far it only seems to output the last one"
   ]
  },
  {
   "cell_type": "code",
   "execution_count": 18,
   "metadata": {},
   "outputs": [
    {
     "name": "stdout",
     "output_type": "stream",
     "text": [
      "{'model': 'llama2', 'created_at': '2024-04-26T14:28:17.919118Z', 'message': {'role': 'assistant', 'content': '{{\\n    \"payer\":\"Chuck\",\\n    \"recipient\":\"Sam\",\\n    \"amount\":\"$20\",\\n    \"frequency\":\"monthly\"\\n}}'}, 'done': True, 'total_duration': 5958509300, 'load_duration': 1641200, 'prompt_eval_duration': 184933000, 'eval_count': 40, 'eval_duration': 5769440000}\n"
     ]
    }
   ],
   "source": [
    "sys_msg = \"\"\"Grab the payer, recipient, amount from any sentence you are given,\n",
    "    and output it in the following JSON format:\n",
    "    {{\n",
    "        \"payer\":\"<name of payer>\",\n",
    "        \"recipient\":\"<name of recipient>\",\n",
    "        \"amount\":\"<amount in USD>\",\n",
    "        \"frequency\":\"<frequency of payment>\" # display as \"hourly\", \"daily\", \"weekly\", etc.\n",
    "    }}\n",
    "\"\"\"\n",
    "\n",
    "inputs = [\n",
    "    'John pays James $50 every friday',\n",
    "    'Sam receives $20 from chuck the first of each month',\n",
    "    'The local pub receives payment from a patron each week'\n",
    "]\n",
    "\n",
    "system_mode = {\n",
    "    'role':'system',\n",
    "    'content':sys_msg,\n",
    "}\n",
    "\n",
    "msgs = [system_mode]\n",
    "\n",
    "for i in inputs:\n",
    "    msgs.append(dict({'role':'user', 'content':i}))\n",
    "\n",
    "\n",
    "response = ollama.chat(model='llama2', messages=msgs)\n",
    "print(response['message']['content'])"
   ]
  },
  {
   "cell_type": "markdown",
   "metadata": {},
   "source": [
    "We can use the assistant role to validate expect output against a test set"
   ]
  },
  {
   "cell_type": "code",
   "execution_count": 25,
   "metadata": {},
   "outputs": [
    {
     "name": "stdout",
     "output_type": "stream",
     "text": [
      "{'payer': 'John James', 'recipient': 'Paul Tom', 'amount': 50, 'pay frequency': 'monthly'}\n",
      "{{\n",
      "\"payer\":\"John James\",\n",
      "\"recipient\":\"Paul Tom\",\n",
      "\"amount\":\"50.00\",\n",
      "\"pay frequency\":\"monthly\"\n",
      "}}\n"
     ]
    }
   ],
   "source": [
    "sys_msg = \"\"\"Grab the payer, recipient, amount from any sentence you are given,\n",
    "    and output it in the following JSON format:\n",
    "    {\n",
    "        \"payer\":\"<name of payer>\",\n",
    "        \"recipient\":\"<name of recipient>\",\n",
    "        \"amount\":\"<amount in USD>\",\n",
    "        \"frequency\":\"<frequency of payment>\" # display as \"hourly\", \"daily\", \"weekly\", etc.\n",
    "    }\n",
    "\"\"\"\n",
    "\n",
    "expected_out = {\n",
    "    \"payer\":\"John James\", \n",
    "    \"recipient\":\"Paul Tom\", \n",
    "    \"amount\":50,\n",
    "    \"pay frequency\":\"monthly\"\n",
    "    }\n",
    "\n",
    "response = ollama.chat(model='llama2', messages=[\n",
    "    {\n",
    "        'role':'system',\n",
    "        'content':sys_msg,\n",
    "    },\n",
    "    {\n",
    "        'role':'assistant',\n",
    "        'content':str(expected_out)\n",
    "    },\n",
    "    {\n",
    "        'role':'user',\n",
    "        'content':'John James paid Paul Tom $50 every month'\n",
    "    }\n",
    "])\n",
    "\n",
    "print(format)\n",
    "print(response['message']['content'])"
   ]
  },
  {
   "cell_type": "markdown",
   "metadata": {},
   "source": [
    "Using the LangChain wrapper library to simplify the syntax, and add features"
   ]
  },
  {
   "cell_type": "code",
   "execution_count": 38,
   "metadata": {},
   "outputs": [
    {
     "name": "stdout",
     "output_type": "stream",
     "text": [
      "{\n",
      "\"payer\":\"Chuck\",\n",
      "\"recipient\":\"Sam\",\n",
      "\"amount\":\"20.00\",\n",
      "\"frequency\":\"monthly\"\n",
      "}\n",
      "Chuck\n"
     ]
    }
   ],
   "source": [
    "llm = ChatOllama(model=\"llama2\")\n",
    "\n",
    "\n",
    "sys_msg = \"\"\"Grab the payer, recipient, amount from any sentence you are given,\n",
    "    and output it in the following JSON format:\n",
    "    {\n",
    "        \"payer\":\"<name of payer>\",\n",
    "        \"recipient\":\"<name of recipient>\",\n",
    "        \"amount\":\"<amount in USD>\",\n",
    "        \"frequency\":\"<frequency of payment>\" # display as \"hourly\", \"daily\", \"weekly\", etc.\n",
    "    }\n",
    "\"\"\"\n",
    "\n",
    "inputs = [\n",
    "    'John pays James $50 every friday',\n",
    "    'Sam receives $20 from chuck the first of each month',\n",
    "    'The local pub receives payment from a patron each week'\n",
    "    'Nancy pays Jim, Harry, and Bob $75 each Wednesday'\n",
    "]\n",
    "\n",
    "messages = [\n",
    "    SystemMessage(\n",
    "        content=sys_msg\n",
    "    ),\n",
    "    HumanMessage(\n",
    "        content=inputs[1]\n",
    "    )\n",
    "]\n",
    "\n",
    "chat_model_response = llm.invoke(messages)\n",
    "print(chat_model_response.content)\n",
    "\n",
    "# access the payer information\n",
    "print(json.loads(chat_model_response.content)['payer'])"
   ]
  },
  {
   "cell_type": "markdown",
   "metadata": {},
   "source": [
    "Trying to get Ollama to generate itemized transactions for when a single person pays multiple people in one input string"
   ]
  },
  {
   "cell_type": "code",
   "execution_count": 51,
   "metadata": {},
   "outputs": [
    {
     "name": "stdout",
     "output_type": "stream",
     "text": [
      "{\"results\":[\n",
      "{\n",
      "\"payer\":\"Nancy\",\n",
      "\"recipient\":\"Jim\",\n",
      "\"amount\":\"$75\",\n",
      "\"frequency\":\"weekly\"\n",
      "},\n",
      "{\n",
      "\"payer\":\"Nancy\",\n",
      "\"recipient\":\"Harry\",\n",
      "\"amount\":\"$75\",\n",
      "\"frequency\":\"weekly\"\n",
      "},\n",
      "{\n",
      "\"payer\":\"Nancy\",\n",
      "\"recipient\":\"Bob\",\n",
      "\"amount\":\"$75\",\n",
      "\"frequency\":\"weekly\"\n",
      "}\n",
      "]}\n",
      "{'payer': 'Nancy', 'recipient': 'Jim', 'amount': '$75', 'frequency': 'weekly'}\n"
     ]
    }
   ],
   "source": [
    "llm = ChatOllama(model=\"llama2\", format=\"json\") #format=\"json\" for json output\n",
    "\n",
    "\n",
    "sys_msg = \"\"\"Grab the payer, recipient, amount from any sentence you are given,\n",
    "    and output it in the following JSON format:\n",
    "    {\"results\":[\n",
    "        {\n",
    "        \"payer\":\"<name of payer>\",\n",
    "        \"recipient\":\"<name of recipient>\",\n",
    "        \"amount\":\"<amount in USD>\",\n",
    "        \"frequency\":\"<frequency of payment>\" # display as \"hourly\", \"daily\", \"weekly\", etc.\n",
    "        },\n",
    "        {\n",
    "        <ITEM 2>\n",
    "        },\n",
    "        {\n",
    "        <ITEM 3>\n",
    "        },\n",
    "    ]}. But separate each individual transaction between two people into a separate item. Print only the JSON output.\n",
    "\"\"\"\n",
    "\n",
    "inputs = [\n",
    "    'John pays James $50 every friday',\n",
    "    'Sam receives $20 from chuck the first of each month',\n",
    "    'The local pub receives payment from a patron each week',\n",
    "    'Nancy pays Jim, Harry, and Bob $75 each Wednesday'\n",
    "]\n",
    "\n",
    "messages = [\n",
    "    SystemMessage(\n",
    "        content=sys_msg\n",
    "    ),\n",
    "    HumanMessage(\n",
    "        content=inputs[3]\n",
    "    )\n",
    "]\n",
    "\n",
    "chat_model_response = llm.invoke(messages)\n",
    "print(chat_model_response.content)\n",
    "\n",
    "# access the payer information\n",
    "json_out = json.loads(chat_model_response.content)\n",
    "print(json_out['results'][0])"
   ]
  }
 ],
 "metadata": {
  "kernelspec": {
   "display_name": "Python 3",
   "language": "python",
   "name": "python3"
  },
  "language_info": {
   "codemirror_mode": {
    "name": "ipython",
    "version": 3
   },
   "file_extension": ".py",
   "mimetype": "text/x-python",
   "name": "python",
   "nbconvert_exporter": "python",
   "pygments_lexer": "ipython3",
   "version": "3.12.3"
  }
 },
 "nbformat": 4,
 "nbformat_minor": 2
}
